{
 "cells": [
  {
   "cell_type": "code",
   "execution_count": 1,
   "id": "7add605f",
   "metadata": {},
   "outputs": [],
   "source": [
    "import os\n",
    "import pandas as pd\n",
    "import numpy as np\n",
    "from numpy.polynomial.legendre import legval, legvander"
   ]
  },
  {
   "cell_type": "code",
   "execution_count": 2,
   "id": "5a3b2b6d",
   "metadata": {},
   "outputs": [],
   "source": [
    "inpath = 'D:\\\\OneDrive - University of Missouri\\\\transfer_desktop\\MU\\\\2025S_Mod_chapter2\\\\data_clean'\n",
    "savedir = 'D:\\\\OneDrive - University of Missouri\\\\transfer_desktop\\MU\\\\project 3\\\\1_try\\\\output'\n",
    "os.makedirs(savedir, exist_ok=True)"
   ]
  },
  {
   "cell_type": "code",
   "execution_count": 3,
   "id": "34f4509c",
   "metadata": {},
   "outputs": [],
   "source": [
    "# Import data\n",
    "data = pd.read_csv(os.path.join(inpath, 'NC_main.csv'), index_col=None)\n",
    "data['datetime_UTC'] = pd.to_datetime(data['datetime_UTC'])\n",
    "data['Year'] = data['Year'].astype(int)\n",
    "data['Month'] = data['Month'].astype(int)\n",
    "data['Day'] = data['Day'].astype(int)\n",
    "data['Hour'] = data['Hour'].astype(int)\n",
    "#data['yyyymm'] = data['Year'].astype(str) + '-' + data['Month'].astype(str).str.zfill(2)\n",
    "data['logy'] = np.log(data['load'])"
   ]
  },
  {
   "cell_type": "code",
   "execution_count": 4,
   "id": "4c167744",
   "metadata": {},
   "outputs": [],
   "source": [
    "# Subsample\n",
    "dt0 = data[(data['Hour']==0) & (data['Month'].isin([4, 5]))] # nobs=1403\n",
    "dt0 = dt0.sort_values(by='datetime_UTC').reset_index(drop=True)"
   ]
  },
  {
   "cell_type": "code",
   "execution_count": 6,
   "id": "9eb81270",
   "metadata": {},
   "outputs": [],
   "source": [
    "###############################################\n",
    "#   Supervised FPCA - determine the order M   #\n",
    "###############################################\n",
    "from sklearn.preprocessing import StandardScaler\n",
    "from sklearn.cross_decomposition import PLSRegression\n",
    "from sklearn.model_selection import KFold\n",
    "from sklearn.metrics import mean_squared_error"
   ]
  },
  {
   "cell_type": "code",
   "execution_count": null,
   "id": "b879aaa9",
   "metadata": {},
   "outputs": [],
   "source": [
    "# Normalize temperature to [-1, 1] for Legendre basis  \n",
    "def normal2(x):  \n",
    "    x_min, x_max = x.min(), x.max()  \n",
    "    return 2*(x-x_min)/(x_max-x_min) - 1\n",
    "\n",
    "y = dt0['logy']\n",
    "x_grid = normal2(dt0['temperature'])\n",
    "X_poly = legvander(x_grid, deg=99) # degree from 0 to 99. shape (T, 100)\n",
    "\n",
    "# Center or scale the data\n",
    "#X_cent = X_poly - X_poly.mean(axis=0) # just center the data\n",
    "scaler = StandardScaler(with_mean=True, with_std=True) # center + scale to unit variance\n",
    "X_scale = scaler.fit_transform(X_poly)\n",
    "\n",
    "########################################\n",
    "# CV selection of number of components #\n",
    "########################################\n",
    "max_c = X_poly.shape[1]  # max number of components\n",
    "kf = KFold(n_splits=5, shuffle=True, random_state=114514)\n",
    "mse_cv = np.zeros(max_c)\n",
    "mse_cv_se = np.zeros(max_c)\n",
    "for n_cp in range(1, max_c+1):\n",
    "    fold_mses = []\n",
    "    for train_idx, test_idx in kf.split(X_scale):\n",
    "        pls = PLSRegression(n_components=n_cp)\n",
    "        pls.fit(X_scale[train_idx], y[train_idx])\n",
    "        yhat = pls.predict(X_scale[test_idx]).ravel()\n",
    "        fold_mses.append(mean_squared_error(y[test_idx], yhat))\n",
    "    fold_mses = np.array(fold_mses)\n",
    "    mse_cv[n_cp-1] = fold_mses.mean()\n",
    "    mse_cv_se[n_cp-1] = fold_mses.std(ddof=1) / np.sqrt(len(fold_mses))\n",
    "\n",
    "k_select = int(np.argmin(mse_cv) + 1) # minimze MSE\n",
    "print(f'Selected number of components: {k_select}')\n",
    "\n",
    "pls_final = PLSRegression(n_components=k_select)\n",
    "pls_final.fit(X_scale, y)\n",
    "x_weights = pls_final.x_weights_ # shape (100, k_select)\n",
    "x_scores = pls_final.x_scores_ # shape (T, k_select)"
   ]
  },
  {
   "cell_type": "code",
   "execution_count": null,
   "id": "a16cfccc",
   "metadata": {},
   "outputs": [],
   "source": [
    "# Save results\n",
    "df_weights = pd.DataFrame(x_weights, columns=[f'PC{j+1}' for j in range(k_select)])\n",
    "df_weights['degree'] = np.arange(100)\n",
    "df_weights.to_csv(os.path.join(savedir, 'x_weights.csv'), index=False)\n",
    "df_scores = pd.DataFrame(x_scores, columns=[f'PC{j+1}' for j in range(k_select)])\n",
    "df_scores['datetime_UTC'] = dt0['datetime_UTC']\n",
    "df_scores['logy'] = y\n",
    "df_scores.to_csv(os.path.join(savedir, 'x_scores.csv'), index=False)"
   ]
  },
  {
   "cell_type": "code",
   "execution_count": null,
   "id": "cc89f897",
   "metadata": {},
   "outputs": [],
   "source": [
    "# Option (B) Select basis functions based on weights\n",
    "# Identify top contributing original degrees per component (by abs weight)\n",
    "phi_coef = x_weights.copy()\n",
    "row_norm = np.sqrt(np.sum(phi_coef**2, axis=1))\n",
    "order = np.argsort(row_norm)[::-1] # descending order\n",
    "labels = order.astype(str)\n",
    "row_norm = row_norm[order]\n",
    "\n",
    "# Plot the row norm vs degree\n",
    "import matplotlib.pyplot as plt\n",
    "plt.figure(figsize=(8, 4))\n",
    "plt.plot(np.arange(100), row_norm)\n",
    "for i in np.arange(100):\n",
    "    plt.text(i, row_norm[i], labels[i], fontsize=9, ha='right', va='bottom')\n",
    "plt.xlabel('Ranking')\n",
    "plt.ylabel('L2 norm of weights')\n",
    "plt.savefig(os.path.join(savedir, 'degreesbynorm.png'), dpi=300)"
   ]
  },
  {
   "cell_type": "code",
   "execution_count": null,
   "id": "94e7df44",
   "metadata": {},
   "outputs": [],
   "source": [
    "# Visually cut at the top six\n",
    "top_degrees = [1, 2, 4, 7, 6, 5]\n",
    "X_b = X_poly[:, top_degrees] # select the top six degrees\n",
    "# Save the selected basis functions\n",
    "df_basis = pd.DataFrame(X_b, columns=[f'phi{d}' for d in top_degrees])\n",
    "df_basis['datetime_UTC'] = dt0['datetime_UTC']\n",
    "df_basis['logy'] = y\n",
    "df_basis.to_csv(os.path.join(savedir, 'x_basis_topdegree.csv'), index=False)"
   ]
  }
 ],
 "metadata": {
  "kernelspec": {
   "display_name": "base",
   "language": "python",
   "name": "python3"
  },
  "language_info": {
   "codemirror_mode": {
    "name": "ipython",
    "version": 3
   },
   "file_extension": ".py",
   "mimetype": "text/x-python",
   "name": "python",
   "nbconvert_exporter": "python",
   "pygments_lexer": "ipython3",
   "version": "3.11.5"
  }
 },
 "nbformat": 4,
 "nbformat_minor": 5
}
