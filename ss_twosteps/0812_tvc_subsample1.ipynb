{
 "cells": [
  {
   "cell_type": "code",
   "execution_count": null,
   "id": "e2d1a2f7",
   "metadata": {},
   "outputs": [],
   "source": [
    "import os\n",
    "import numpy as np\n",
    "import pandas as pd\n",
    "import statsmodels.api as sm\n",
    "from statsmodels.tsa.statespace import mlemodel\n",
    "import matplotlib.pyplot as plt\n",
    "from statsmodels.graphics.tsaplots import plot_acf, plot_pacf\n",
    "from statsmodels.stats.diagnostic import acorr_ljungbox\n",
    "# conda update statsmodels"
   ]
  },
  {
   "cell_type": "code",
   "execution_count": 2,
   "id": "16ecfa72",
   "metadata": {},
   "outputs": [],
   "source": [
    "outpath = 'D:\\\\OneDrive - University of Missouri\\\\transfer_desktop\\MU\\\\project 3\\\\1_try\\\\output'"
   ]
  },
  {
   "cell_type": "code",
   "execution_count": null,
   "id": "35d306d0",
   "metadata": {},
   "outputs": [],
   "source": [
    "df = pd.read_csv(os.path.join(outpath, 'x_basis_topdegree.csv'), index_col=None)\n",
    "Xb = df[['phi1', 'phi2', 'phi4', 'phi5', 'phi6', 'phi7']].to_numpy(dtype=float)\n",
    "y = df['logy'].to_numpy(dtype=float)"
   ]
  },
  {
   "cell_type": "code",
   "execution_count": null,
   "id": "c21e570a",
   "metadata": {},
   "outputs": [],
   "source": [
    "# Load the PLS/PCA transformed data \n",
    "# ----- Not used in later steps. Can be ignored -----\n",
    "yx_pls = np.load(os.path.join(outpath, 'yx_pls.npy'), allow_pickle=True)\n",
    "y_a = yx_pls[:, 3]\n",
    "x_a = yx_pls[:, 0:3]\n",
    "# Model (2)\n",
    "xa1 = sm.add_constant(x_a)\n",
    "model_a = sm.OLS(y_a, xa1).fit() \n",
    "# Model (1)\n",
    "Xb1 = sm.add_constant(Xb)\n",
    "model = sm.OLS(y, Xb1).fit()\n",
    "\n",
    "# Save the model results into a text file\n",
    "summary_1 = model.summary().as_text()\n",
    "summary_2 = model_a.summary().as_text()\n",
    "with open(os.path.join(outpath, 'summary_simplemodel.txt'), 'w') as f:\n",
    "    f.write('Regressors: Selected basis polynomials \\n')\n",
    "    f.write(summary_1)\n",
    "    f.write('\\n Regressors: PLS/PCA transformed \\n')\n",
    "    f.write(summary_2)"
   ]
  },
  {
   "cell_type": "code",
   "execution_count": null,
   "id": "fbc47907",
   "metadata": {},
   "outputs": [],
   "source": [
    "#############################\n",
    "####  State Space Model  ####\n",
    "#############################\n",
    "# y_t=d_t+x'_t\\beta_t+\\epsilon_t\n",
    "# d_t=d_{t-1}+\\eta_t\n",
    "# \\beta_t=\\beta_{t-1}+u_t, (mx1) Gaussian innovations"
   ]
  },
  {
   "cell_type": "code",
   "execution_count": 12,
   "id": "6ab0d587",
   "metadata": {},
   "outputs": [],
   "source": [
    "# Define the model class\n",
    "class TVCModel(mlemodel.MLEModel):\n",
    "    def __init__(self, endog, exog):\n",
    "        self.k_exog = exog.shape[1]\n",
    "        k_states = 1+self.k_exog\n",
    "        super().__init__(endog, k_states=k_states, exog=exog, initialization='approximate_diffuse')\n",
    "\n",
    "        self.ssm.transition = np.eye(k_states)  # T: both alpha and beta follow random walks\n",
    "        self.ssm.selection = np.eye(k_states)   # R\n",
    "        \n",
    "        self.ssm.design = np.zeros((1, k_states, self.nobs))  # Z_t: [1, x'_t]\n",
    "        self.ssm.design[0, 0, :] = 1.0\n",
    "        self.ssm.design[0, 1:, :] = exog.T\n",
    "\n",
    "    def update(self, params, **kwargs):\n",
    "        params = np.array(params) \n",
    "        sigma2_eps = np.exp(params[0])  # var of observation noise\n",
    "        sigma2_eta = np.exp(params[1])  # var of state noise for d_t\n",
    "        sigma2_u = np.exp(params[2:])   # var of state noise for beta_t\n",
    "\n",
    "        self.ssm['obs_cov', 0, 0] = sigma2_eps       # H: observation covariance\n",
    "        self.ssm['state_cov'] = np.diag(\n",
    "            np.concatenate(([sigma2_eta], sigma2_u))  # Q: state covariance\n",
    "        )\n",
    "\n",
    "    @property\n",
    "    def start_params(self):\n",
    "        # Initial guesses (log-scale)\n",
    "        # params = [log_sigma_eps, log_sigma_eta, log_sigma_u's...]\n",
    "        sigma2_eps0 = np.log(np.var(self.endog))\n",
    "        sigma2_eta0 = np.log(0.01)\n",
    "        sigma2_u0   = np.log(0.01*np.ones(self.k_exog))\n",
    "        return np.r_[sigma2_eps0, sigma2_eta0, sigma2_u0]"
   ]
  },
  {
   "cell_type": "code",
   "execution_count": 68,
   "id": "5992a576",
   "metadata": {},
   "outputs": [],
   "source": [
    "# Fit the model\n",
    "Xb = df[['phi1', 'phi2', 'phi4', 'phi5', 'phi6']].to_numpy(dtype=float)\n",
    "y_std = (y - np.mean(y))/np.std(y)\n",
    "mod = TVCModel(y_std, Xb)\n",
    "res = mod.fit()"
   ]
  },
  {
   "cell_type": "code",
   "execution_count": 46,
   "id": "0fb59523",
   "metadata": {},
   "outputs": [],
   "source": [
    "# Save the summary into a text file\n",
    "summary = res.summary().as_text()\n",
    "with open(os.path.join(outpath, 'summary_tvc_mod1.txt'), 'w') as f:\n",
    "    f.write('State Space Model: Time-Varying Coefficients \\n')\n",
    "    f.write(summary)"
   ]
  },
  {
   "cell_type": "code",
   "execution_count": null,
   "id": "c746337b",
   "metadata": {},
   "outputs": [],
   "source": [
    "# Some diagnostics\n",
    "one_rsdl = res.filter_results.standardized_forecasts_error[0]\n",
    "one_rsdl = one_rsdl.flatten()\n",
    "\n",
    "# Plot residuals over time\n",
    "plt.figure(figsize=(12, 4))\n",
    "plt.plot(one_rsdl)\n",
    "plt.xlabel(\"Period\")\n",
    "plt.grid(True)\n",
    "plt.savefig(os.path.join(outpath, 'std_residual_1stepahead_mod1.png'))\n",
    "\n",
    "# Plot ACF and PACF\n",
    "fig, axes = plt.subplots(1, 2, figsize=(14, 4)) # 1 row, 2 columns\n",
    "plot_acf(one_rsdl, lags=40, marker='', zero=False, ax=axes[0])\n",
    "axes[0].set_ylim(-0.25, 0.25)\n",
    "axes[0].set_title(\"ACF\")\n",
    "plot_pacf(one_rsdl, lags=40, marker='', zero=False, ax=axes[1])\n",
    "axes[1].set_ylim(-0.25, 0.25)\n",
    "axes[1].set_title(\"PACF\")\n",
    "plt.savefig(os.path.join(outpath, 'PACF_stdresid1s_mod1.png'))\n",
    "\n",
    "# Q–Q plot # normal quantile vs residual quantile\n",
    "fig = plt.figure(figsize=(6, 5))\n",
    "sm.qqplot(one_rsdl, line='45')\n",
    "plt.savefig(os.path.join(outpath, 'QQp_stdresid1s_mod1.png'))"
   ]
  },
  {
   "cell_type": "code",
   "execution_count": null,
   "id": "f1a48ea9",
   "metadata": {},
   "outputs": [],
   "source": [
    "# Ljung–Box Q statistic\n",
    "# Aggregate autocorrelation up to the specified lags p\n",
    "# null: residuals are uncorrelated up to lag p vs alternative: residuals are autocorrelated at some lag<=p\n",
    "lb_test = acorr_ljungbox(one_rsdl, lags=[1], return_df=True)\n",
    "print(lb_test)"
   ]
  },
  {
   "cell_type": "code",
   "execution_count": 77,
   "id": "bb83ca6c",
   "metadata": {},
   "outputs": [],
   "source": [
    "# Smoothed states\n",
    "smoothed = res.smoothed_state\n",
    "smoothed_org = smoothed*np.std(y)\n",
    "smoothed_org[0, :] = smoothed[0, :]*np.std(y) + np.mean(y) # back to original scale\n",
    "# Smoothed state variances\n",
    "smoothed_var = res.smoothed_state_cov\n",
    "smoothed_var_org = smoothed_var*(np.std(y)**2)"
   ]
  },
  {
   "cell_type": "code",
   "execution_count": null,
   "id": "18d31f20",
   "metadata": {},
   "outputs": [],
   "source": [
    "# d_t\n",
    "plt.figure(figsize=(14, 6))\n",
    "plt.plot(np.arange(len(y)), smoothed_org[0, :], label='local trend', lw=1, ls='--')\n",
    "plt.plot(np.arange(len(y)), y, label='observed load', lw=1)\n",
    "plt.fill_between(np.arange(len(y)),\n",
    "                 smoothed_org[0, :] - 2*np.sqrt(smoothed_var_org[0, 0, :]),\n",
    "                 smoothed_org[0, :] + 2*np.sqrt(smoothed_var_org[0, 0, :]),\n",
    "                 color='blue', alpha=0.2)\n",
    "plt.legend()\n",
    "plt.tight_layout()\n",
    "plt.savefig(os.path.join(outpath, 'smoothedstate_mod1_dt.png'))"
   ]
  },
  {
   "cell_type": "code",
   "execution_count": null,
   "id": "5cde6db4",
   "metadata": {},
   "outputs": [],
   "source": [
    "# beta_kt for k=1, 2\n",
    "fig, axes = plt.subplots(2, 1, figsize=(12, 8)) # 2 row, 1 columns\n",
    "for i in range(2):\n",
    "    axi = axes[i]\n",
    "    axi.set_ylabel(f\"beta_{i+1}\")\n",
    "    axi.plot(np.arange(len(y)), smoothed_org[1+i, :], label=f'beta_{i+1}') # 1, 2\n",
    "    axi.fill_between(np.arange(len(y)),\n",
    "                     smoothed_org[1+i, :] - 2*np.sqrt(smoothed_var_org[1+i, 1+i, :]),\n",
    "                     smoothed_org[1+i, :] + 2*np.sqrt(smoothed_var_org[1+i, 1+i, :]),\n",
    "                     alpha=0.2)\n",
    "    axi.set_ylim(0.1, 0.3)\n",
    "plt.savefig(os.path.join(outpath, 'smoothedstate_mod1_beta12t.png'))"
   ]
  },
  {
   "cell_type": "code",
   "execution_count": null,
   "id": "fb6df1fa",
   "metadata": {},
   "outputs": [],
   "source": [
    "# beta_kt for k=4, 5, 6\n",
    "fig, axes = plt.subplots(3, 1, figsize=(12, 12)) # 3 row, 1 columns\n",
    "for i in range(3):\n",
    "    k = i+3\n",
    "    axi = axes[i]\n",
    "    axi.set_ylabel(f\"beta_{k+1}\")\n",
    "    axi.plot(np.arange(len(y)), smoothed_org[k, :], label=f'beta_{k+1}') # 3, 4, 5\n",
    "    axi.fill_between(np.arange(len(y)),\n",
    "                     smoothed_org[k, :] - 2*np.sqrt(smoothed_var_org[k, k, :]),\n",
    "                     smoothed_org[k, :] + 2*np.sqrt(smoothed_var_org[k, k, :]),\n",
    "                     alpha=0.2)\n",
    "    axi.set_ylim(-0.08, 0.07)\n",
    "plt.savefig(os.path.join(outpath, 'smoothedstate_mod1_beta456t.png'))"
   ]
  }
 ],
 "metadata": {
  "kernelspec": {
   "display_name": "base",
   "language": "python",
   "name": "python3"
  },
  "language_info": {
   "codemirror_mode": {
    "name": "ipython",
    "version": 3
   },
   "file_extension": ".py",
   "mimetype": "text/x-python",
   "name": "python",
   "nbconvert_exporter": "python",
   "pygments_lexer": "ipython3",
   "version": "3.11.5"
  }
 },
 "nbformat": 4,
 "nbformat_minor": 5
}
